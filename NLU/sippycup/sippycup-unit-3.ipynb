{
 "cells": [
  {
   "cell_type": "markdown",
   "metadata": {},
   "source": [
    "<img src=\"img/sippycup-small.jpg\" align=\"left\" style=\"padding-right: 30px\"/>\n",
    "\n",
    "<h1 style=\"line-height: 125%\">\n",
    "  SippyCup<br />\n",
    "  Unit 3: Geography queries\n",
    "</h1>\n",
    "\n",
    "<p>\n",
    "  <a href=\"http://nlp.stanford.edu/~wcmac/\">Bill MacCartney</a><br/>\n",
    "  Spring 2015\n",
    "  <!-- <a href=\"mailto:wcmac@cs.stanford.edu\">wcmac@cs.stanford.edu</a> -->\n",
    "</p>"
   ]
  },
  {
   "cell_type": "markdown",
   "metadata": {},
   "source": [
    "<div style=\"margin: 0px 0px; padding: 10px; background-color: #ddddff; border-style: solid; border-color: #aaaacc; border-width: 1px\">\n",
    "This is Unit 3 of the <a href=\"./sippycup-unit-0.ipynb\">SippyCup codelab</a>.\n",
    "</div>"
   ]
  },
  {
   "cell_type": "markdown",
   "metadata": {},
   "source": [
    "Our third case study will examine the domain of geography queries.  In particular, we'll focus on the [Geo880][] corpus, which contains 880 queries about U.S. geography.  Examples include:\n",
    "\n",
    "  [Geo880]: http://www.cs.utexas.edu/users/ml/geo.html\n",
    "\n",
    "    \"which states border texas?\"\n",
    "    \"how many states border the largest state?\"\n",
    "    \"what is the size of the capital of texas?\"\n",
    "\n",
    "The Geo880 queries have a quite different character from the arithmetic queries and travel queries we have examined previously.  They differ from the arithmetic queries in using a large vocabulary, and in exhibiting greater degrees of both lexical and syntactic ambiguity.  They differ from the travel queries in adhering to conventional rules for spelling and syntax, and in having semantics with arbitrarily complex compositional structure.  For example:\n",
    "\n",
    "    \"what rivers flow through states that border the state with the largest population?\"\n",
    "    \"what is the population of the capital of the largest state through which the mississippi runs?\"\n",
    "    \"what is the longest river that passes the states that border the state that borders the most states?\"\n",
    "\n",
    "Geo880 was developed in Ray Mooney's group at UT Austin.  It is of particular interest because it has for many years served as a standard evaluation for semantic parsing systems.  (See, for example, [Zelle & Mooney 1996][], [Tang & Mooney 2001][], [Zettlemoyer & Collins 2005][], and [Liang et al. 2011][].)  It has thereby become, for many, a paradigmatic application of semantic parsing.  It has also served as a bridge between an older current of research on natural language interfaces to databases (NLIDBs) (see [Androutsopoulos et al. 1995][]) and the modern era of semantic parsing.\n",
    "\n",
    "  [Zelle & Mooney 1996]: http://www.aaai.org/Papers/AAAI/1996/AAAI96-156.pdf\n",
    "  [Tang & Mooney 2001]: http://www.cs.utexas.edu/~ai-lab/pubs/cocktail-ecml-01.pdf\n",
    "  [Zettlemoyer & Collins 2005]: http://people.csail.mit.edu/lsz/papers/zc-uai05.pdf\n",
    "  [Liang et al. 2011]: http://www.cs.berkeley.edu/~jordan/papers/liang-jordan-klein-acl2011.pdf\n",
    "  [Androutsopoulos et al. 1995]: http://arxiv.org/pdf/cmp-lg/9503016.pdf\n",
    "  \n",
    "The domain of geography queries is also of interest because there are many plausible real-world applications for semantic parsing which similarly involve complex compositional queries against a richly structured knowledge base.  For example, some people are passionate about baseball statistics, and might want to ask queries like:\n",
    "\n",
    "    \"pitchers who have struck out four batters in one inning\"\n",
    "    \"players who have stolen at least 100 bases in a season\"\n",
    "    \"complete games with fewer than 90 pitches\"\n",
    "    \"most home runs hit in one game\"\n",
    "\n",
    "Environmental advocates and policymakers might have queries like:\n",
    "\n",
    "    \"which country has the highest co2 emissions\"\n",
    "    \"what five countries have the highest per capita co2 emissions\"\n",
    "    \"what country's co2 emissions increased the most over the last five years\"\n",
    "    \"what fraction of co2 emissions was from european countries in 2010\"\n",
    "    \n",
    "Techniques that work in the geography domain are likely to work in these other domains too."
   ]
  },
  {
   "cell_type": "markdown",
   "metadata": {},
   "source": [
    "## The Geo880 dataset"
   ]
  },
  {
   "cell_type": "markdown",
   "metadata": {},
   "source": [
    "I've been told that the Geo880 queries were collected from students in classes taught by Ray Mooney at UT Austin.  I'm not sure whether I've got the story right.  But this account is consistent with one of the notable limitations of the dataset: it is not a natural distribution, and not a realistic representation of the geography queries that people actually ask on, say, Google.  Nobody ever asks, \"what is the longest river that passes the states that border the state that borders the most states?\"  Nobody.  Ever.\n",
    "\n",
    "The dataset was published online by Rohit Jaivant Kate in a [Prolog file][] containing semantic representations in Prolog style.  It was later republished by Yuk Wah Wong as an [XML file][] containing additional metadata for each example, including translations into Spanish, Japanese, and Turkish; syntactic parse trees; and semantics in two different representations: Prolog and [FunQL][].\n",
    "\n",
    "  [Prolog file]: ftp://ftp.cs.utexas.edu/pub/mooney/nl-ilp-data/geosystem/geoqueries880\n",
    "  [XML file]: http://www.cs.utexas.edu/~ml/wasp/geo-funql/corpus.xml\n",
    "  [FunQL]: http://www.cs.utexas.edu/~ml/wasp/geo-funql.html\n",
    "\n",
    "In SippyCup, we're not going to use either Prolog or FunQL semantics.  Instead, we'll use examples which have been annotated only with denotations (which were provided by Percy Liang — thanks!).  Of course, our grammar will require a semantic representation, even if our examples are not annotated with semantics.  We will introduce one [below](#geoquery-semantic-representation).\n",
    "\n",
    "The Geo880 dataset is conventionally divided into 600 training examples and 280 test examples.  In SippyCup, the dataset can in found in [`geo880.py`](./geo880.py).  Let's take a peek."
   ]
  },
  {
   "cell_type": "code",
   "execution_count": 1,
   "metadata": {
    "collapsed": false
   },
   "outputs": [
    {
     "name": "stdout",
     "output_type": "stream",
     "text": [
      "train examples: 600\n",
      "test examples:  280\n",
      "Example(input='what is the highest point in florida ?', denotation=('/place/walton_county',))\n",
      "Example(input='which state is the smallest ?', denotation=('/state/district_of_columbia',))\n"
     ]
    }
   ],
   "source": [
    "from geo880 import geo880_train_examples, geo880_test_examples\n",
    "\n",
    "print('train examples:', len(geo880_train_examples))\n",
    "print('test examples: ', len(geo880_test_examples))\n",
    "print(geo880_train_examples[0])\n",
    "print(geo880_test_examples[0])"
   ]
  },
  {
   "cell_type": "markdown",
   "metadata": {},
   "source": [
    "## The Geobase knowledge base"
   ]
  },
  {
   "cell_type": "markdown",
   "metadata": {},
   "source": [
    "Geobase is a small knowledge base about the geography of the United States.  It contains (almost) all the information needed to answer queries in the Geo880 dataset, including facts about:\n",
    "\n",
    "- states: capital, area, population, major cities, neighboring states, highest and lowest points and elevations\n",
    "- cities: containing state and population\n",
    "- rivers: length and states traversed\n",
    "- mountains: containing state and height\n",
    "- roads: states traversed\n",
    "- lakes: area, states traversed\n",
    "\n",
    "SippyCup contains a class called `GeobaseReader` (in [`geobase.py`](./geobase.py)) which facilitates working with Geobase in Python.  It reads and parses the Geobase Prolog file, and creates a set of tuples representing its content.  Let's take a look.\n",
    "\n",
    "  [Prolog file]: ftp://ftp.cs.utexas.edu/pub/mooney/nl-ilp-data/geosystem/geobase"
   ]
  },
  {
   "cell_type": "code",
   "execution_count": 2,
   "metadata": {
    "collapsed": false
   },
   "outputs": [
    {
     "name": "stdout",
     "output_type": "stream",
     "text": [
      "GeobaseReader read 51 state rows.\n",
      "GeobaseReader read 386 city rows.\n",
      "GeobaseReader read 46 river rows.\n",
      "GeobaseReader read 51 border rows.\n",
      "GeobaseReader read 51 highlow rows.\n",
      "GeobaseReader read 50 mountain rows.\n",
      "GeobaseReader read 40 road rows.\n",
      "GeobaseReader read 22 lake rows.\n",
      "GeobaseReader read 1 country row.\n",
      "GeobaseReader computed transitive closure of 'contains', adding 495 edges\n",
      "\n",
      "Some unaries:\n",
      "  ('city', '/city/providence_ri')\n",
      "  ('city', '/city/ewa_hi')\n",
      "  ('state', '/state/district_of_columbia')\n",
      "  ('city', '/city/fort_wayne_in')\n",
      "  ('city', '/city/concord_ca')\n",
      "  ('place', '/place/little_river')\n",
      "  ('road', '/road/85')\n",
      "  ('city', '/city/high_point_nc')\n",
      "  ('city', '/city/el_paso_tx')\n",
      "  ('city', '/city/santa_monica_ca')\n",
      "\n",
      "Some binaries:\n",
      "  ('contains', '/state/arizona', '/city/tempe_az')\n",
      "  ('traverses', '/road/90', '/state/illinois')\n",
      "  ('population', '/city/philadelphia_pa', 1688210)\n",
      "  ('contains', '/state/texas', '/city/midland_tx')\n",
      "  ('contains', '/country/usa', '/state/indiana')\n",
      "  ('contains', '/country/usa', '/city/stockton_ca')\n",
      "  ('contains', '/country/usa', '/city/utica_ny')\n",
      "  ('contains', '/country/usa', '/city/augusta_me')\n",
      "  ('contains', '/country/usa', '/state/connecticut')\n",
      "  ('abbreviation', '/state/alabama', 'al')\n"
     ]
    }
   ],
   "source": [
    "from geobase import GeobaseReader\n",
    "\n",
    "reader = GeobaseReader()\n",
    "unaries = [str(t) for t in reader.tuples if len(t) == 2]\n",
    "print('\\nSome unaries:\\n  ' + '\\n  '.join(unaries[:10]))\n",
    "binaries = [str(t) for t in reader.tuples if len(t) == 3]\n",
    "print('\\nSome binaries:\\n  ' + '\\n  '.join(binaries[:10]))"
   ]
  },
  {
   "cell_type": "markdown",
   "metadata": {},
   "source": [
    "Some observations here:\n",
    "\n",
    "- _Unaries_ are pairs consisting of a unary predicate (a type) and an entity.\n",
    "- _Binaries_ are triples consisting of binary predicate (a relation) and two entities (or an entity and a numeric or string value).\n",
    "- Entities are named by unique identifiers of the form `/type/name`.  This is a `GeobaseReader` convention; these identifiers are not used in the original Prolog file.\n",
    "- Some entities have the generic type `place` because they occur in the Prolog file only as the highest or lowest point in a state, and it's hard to reliably assign such points to one of the more specific types.\n",
    "- The original Prolog file is inconsistent about units.  For example, the area of states is expressed in square miles, but the area of lakes is expressed in square kilometers.  `GeobaseReader` converts everything to [SI units][]: meters and square meters.\n",
    "\n",
    "  [SI units]: http://en.wikipedia.org/wiki/International_System_of_Units"
   ]
  },
  {
   "cell_type": "markdown",
   "metadata": {},
   "source": [
    "## Semantic representation <a id=\"geoquery-semantic-representation\"></a>"
   ]
  },
  {
   "cell_type": "markdown",
   "metadata": {},
   "source": [
    "`GeobaseReader` merely reads the data in Geobase into a set of tuples.  It doesn't provide any facility for querying that data.  That's where `GraphKB` and `GraphKBExecutor` come in.  `GraphKB` is a graph-structured knowledge base, with indexing for fast lookups.  `GraphKBExecutor` defines a representation for formal queries against that knowledge base, and supports query execution.  The formal query language defined by `GraphKBExecutor` will serve as our semantic representation for the geography domain."
   ]
  },
  {
   "cell_type": "markdown",
   "metadata": {},
   "source": [
    "### The `GraphKB` class"
   ]
  },
  {
   "cell_type": "markdown",
   "metadata": {},
   "source": [
    "A `GraphKB` is a generic graph-structured knowledge base, or equivalently, a set of relational pairs and triples, with indexing for fast lookups.  It represents a knowledge base as set of tuples, each either:\n",
    "\n",
    "- a pair, consisting of a unary relation and an element which belongs to it,\n",
    "  or\n",
    "- a triple consisting of a binary relation and a pair of elements which\n",
    "  belong to it.\n",
    "\n",
    "For example, we can construct a `GraphKB` representing facts about [The Simpsons][]:\n",
    "\n",
    "  [The Simpsons]: http://en.wikipedia.org/wiki/The_Simpsons"
   ]
  },
  {
   "cell_type": "code",
   "execution_count": 3,
   "metadata": {
    "collapsed": false
   },
   "outputs": [],
   "source": [
    "from graph_kb import GraphKB\n",
    "\n",
    "simpsons_tuples = [\n",
    "\n",
    "     # unaries\n",
    "    ('male', 'homer'),\n",
    "    ('female', 'marge'),\n",
    "    ('male', 'bart'),\n",
    "    ('female', 'lisa'),\n",
    "    ('female', 'maggie'),\n",
    "    ('adult', 'homer'),\n",
    "    ('adult', 'marge'),\n",
    "    ('child', 'bart'),\n",
    "    ('child', 'lisa'),\n",
    "    ('child', 'maggie'),\n",
    "\n",
    "    # binaries\n",
    "    ('has_age', 'homer', 36),\n",
    "    ('has_age', 'marge', 34),\n",
    "    ('has_age', 'bart', 10),\n",
    "    ('has_age', 'lisa', 8),\n",
    "    ('has_age', 'maggie', 1),\n",
    "    ('has_brother', 'lisa', 'bart'),\n",
    "    ('has_brother', 'maggie', 'bart'),\n",
    "    ('has_sister', 'bart', 'maggie'),\n",
    "    ('has_sister', 'bart', 'lisa'),\n",
    "    ('has_sister', 'lisa', 'maggie'),\n",
    "    ('has_sister', 'maggie', 'lisa'),\n",
    "    ('has_father', 'bart', 'homer'),\n",
    "    ('has_father', 'lisa', 'homer'),\n",
    "    ('has_father', 'maggie', 'homer'),\n",
    "    ('has_mother', 'bart', 'marge'),\n",
    "    ('has_mother', 'lisa', 'marge'),\n",
    "    ('has_mother', 'maggie', 'marge'),\n",
    "]\n",
    "\n",
    "simpsons_kb = GraphKB(simpsons_tuples)"
   ]
  },
  {
   "cell_type": "markdown",
   "metadata": {},
   "source": [
    "The `GraphKB` object now contains three indexes:\n",
    "\n",
    "- `unaries[U]`: all entities belonging to unary relation `U`\n",
    "- `binaries_fwd[B][E]`: all entities `X` such that `(E, X)` belongs to binary relation `B`\n",
    "- `binaries_rev[B][E]`: all entities `X` such that `(X, E)` belongs to binary relation `B`\n",
    "\n",
    "For example:"
   ]
  },
  {
   "cell_type": "code",
   "execution_count": 4,
   "metadata": {
    "collapsed": false
   },
   "outputs": [
    {
     "data": {
      "text/plain": [
       "{'bart', 'lisa', 'maggie'}"
      ]
     },
     "execution_count": 4,
     "metadata": {},
     "output_type": "execute_result"
    }
   ],
   "source": [
    "simpsons_kb.unaries['child']"
   ]
  },
  {
   "cell_type": "code",
   "execution_count": 5,
   "metadata": {
    "collapsed": false
   },
   "outputs": [
    {
     "data": {
      "text/plain": [
       "{'maggie'}"
      ]
     },
     "execution_count": 5,
     "metadata": {},
     "output_type": "execute_result"
    }
   ],
   "source": [
    "simpsons_kb.binaries_fwd['has_sister']['lisa']"
   ]
  },
  {
   "cell_type": "code",
   "execution_count": 6,
   "metadata": {
    "collapsed": false
   },
   "outputs": [
    {
     "data": {
      "text/plain": [
       "{'bart', 'maggie'}"
      ]
     },
     "execution_count": 6,
     "metadata": {},
     "output_type": "execute_result"
    }
   ],
   "source": [
    "simpsons_kb.binaries_rev['has_sister']['lisa']"
   ]
  },
  {
   "cell_type": "markdown",
   "metadata": {},
   "source": [
    "### The `GraphKBExecutor` class"
   ]
  },
  {
   "cell_type": "markdown",
   "metadata": {},
   "source": [
    "A `GraphKBExecutor` executes formal queries against a `GraphKB` and returns their denotations.\n",
    "Queries are represented by Python tuples, and can be nested.\n",
    "Denotations are also represented by Python tuples, but are conceptually sets (possibly empty).  The elements of these tuples are always sorted in canonical order, so that they can be reliably compared for set equality.\n",
    "\n",
    "The query language defined by `GraphKBExecutor` is perhaps most easily explained by example:"
   ]
  },
  {
   "cell_type": "code",
   "execution_count": 7,
   "metadata": {
    "collapsed": false
   },
   "outputs": [
    {
     "name": "stdout",
     "output_type": "stream",
     "text": [
      "\n",
      "Q   bart\n",
      "D   ('bart',)\n",
      "\n",
      "Q   male\n",
      "D   ('bart', 'homer')\n",
      "\n",
      "Q   ('has_sister', 'lisa')\n",
      "D   ('bart', 'maggie')\n",
      "\n",
      "Q   ('lisa', 'has_sister')\n",
      "D   ('maggie',)\n",
      "\n",
      "Q   ('lisa', 'has_brother')\n",
      "D   ('bart',)\n",
      "\n",
      "Q   ('.and', 'male', 'child')\n",
      "D   ('bart',)\n",
      "\n",
      "Q   ('.or', 'male', 'adult')\n",
      "D   ('bart', 'homer', 'marge')\n",
      "\n",
      "Q   ('.not', 'child')\n",
      "D   (1, 10, 34, 36, 8, 'homer', 'marge')\n",
      "\n",
      "Q   ('.any',)\n",
      "D   (1, 10, 34, 36, 8, 'bart', 'homer', 'lisa', 'maggie', 'marge')\n",
      "\n",
      "Q   ('.any', 'has_sister')\n",
      "D   ('lisa', 'maggie')\n",
      "\n",
      "Q   ('.and', 'child', ('.not', ('.any', 'has_sister')))\n",
      "D   ('bart',)\n",
      "\n",
      "Q   ('.count', ('bart', 'has_sister'))\n",
      "D   (2,)\n",
      "\n",
      "Q   ('has_age', ('.gt', 21))\n",
      "D   ('homer', 'marge')\n",
      "\n",
      "Q   ('has_age', ('.lt', 2))\n",
      "D   ('maggie',)\n",
      "\n",
      "Q   ('has_age', ('.eq', 10))\n",
      "D   ('bart',)\n",
      "\n",
      "Q   ('.max', 'has_age', 'female')\n",
      "D   (34,)\n",
      "\n",
      "Q   ('.min', 'has_age', ('bart', 'has_sister'))\n",
      "D   (1,)\n",
      "\n",
      "Q   ('.max', 'has_age', '.any')\n",
      "D   (36,)\n",
      "\n",
      "Q   ('.argmax', 'has_age', 'female')\n",
      "D   ('marge',)\n",
      "\n",
      "Q   ('.argmin', 'has_age', ('bart', 'has_sister'))\n",
      "D   ('maggie',)\n",
      "\n",
      "Q   ('.argmax', 'has_age', '.any')\n",
      "D   ('homer',)\n"
     ]
    }
   ],
   "source": [
    "queries = [\n",
    "    'bart',\n",
    "    'male',\n",
    "    ('has_sister', 'lisa'),  # who has sister lisa?\n",
    "    ('lisa', 'has_sister'),  # lisa has sister who, i.e., who is a sister of lisa?\n",
    "    ('lisa', 'has_brother'), # lisa has brother who, i.e., who is a brother of lisa?\n",
    "    ('.and', 'male', 'child'),\n",
    "    ('.or', 'male', 'adult'),\n",
    "    ('.not', 'child'),\n",
    "    ('.any',),               # anything\n",
    "    ('.any', 'has_sister'),  # anything has sister who, i.e., who is a sister of anything?\n",
    "    ('.and', 'child', ('.not', ('.any', 'has_sister'))),\n",
    "    ('.count', ('bart', 'has_sister')),\n",
    "    ('has_age', ('.gt', 21)),\n",
    "    ('has_age', ('.lt', 2)),\n",
    "    ('has_age', ('.eq', 10)),\n",
    "    ('.max', 'has_age', 'female'),\n",
    "    ('.min', 'has_age', ('bart', 'has_sister')),\n",
    "    ('.max', 'has_age', '.any'),\n",
    "    ('.argmax', 'has_age', 'female'),\n",
    "    ('.argmin', 'has_age', ('bart', 'has_sister')),\n",
    "    ('.argmax', 'has_age', '.any'),\n",
    "]\n",
    "\n",
    "executor = simpsons_kb.executor()\n",
    "for query in queries:\n",
    "    print()\n",
    "    print('Q  ', query)\n",
    "    print('D  ', executor.execute(query))"
   ]
  },
  {
   "cell_type": "markdown",
   "metadata": {},
   "source": [
    "Note that the query `(R E)` denotes entities having relation `R` to entity `E`,\n",
    "whereas the query `(E R)` denotes entities to which entity `E` has relation `R`.\n",
    "\n",
    "For a more detailed understanding of the style of semantic representation defined by `GraphKBExecutor`, take a look at the [source code](graph_kb.py)."
   ]
  },
  {
   "cell_type": "markdown",
   "metadata": {},
   "source": [
    "### Using `GraphKBExecutor` with Geobase"
   ]
  },
  {
   "cell_type": "code",
   "execution_count": 8,
   "metadata": {
    "collapsed": false
   },
   "outputs": [
    {
     "name": "stdout",
     "output_type": "stream",
     "text": [
      "\n",
      "('/state/texas', 'capital')\n",
      "('/city/austin_tx',)\n",
      "\n",
      "('.and', 'river', ('traverses', '/state/utah'))\n",
      "('/river/colorado', '/river/green', '/river/san_juan')\n",
      "\n",
      "('.argmax', 'height', 'mountain')\n",
      "('/mountain/mckinley',)\n"
     ]
    }
   ],
   "source": [
    "geobase = GraphKB(reader.tuples)\n",
    "executor = geobase.executor()\n",
    "queries = [\n",
    "    ('/state/texas', 'capital'), # capital of texas\n",
    "    ('.and', 'river', ('traverses', '/state/utah')), # rivers that traverse utah\n",
    "    ('.argmax', 'height', 'mountain'), # tallest mountain\n",
    "]\n",
    "for query in queries:\n",
    "    print()\n",
    "    print(query)\n",
    "    print(executor.execute(query))"
   ]
  },
  {
   "cell_type": "markdown",
   "metadata": {},
   "source": [
    "## Grammar engineering"
   ]
  },
  {
   "cell_type": "markdown",
   "metadata": {},
   "source": [
    "It's time to start developing a grammar for the geography domain.  As in Unit 2, \n",
    "the performance metric we'll focus on during grammar engineering is *oracle* accuracy (the proportion of examples for which *any* parse is correct), not accuracy (the proportion of examples for which the *first* parse is correct).  Remember that oracle accuracy is an upper bound on accuracy, and is a measure of the expressive power of the grammar: does it have the rules it needs to generate the correct parse?  The gap between oracle accuracy and accuracy, on the other hand, reflects the ability of the scoring model to bring the correct parse to the top of the candidate list.  <!-- (TODO: rewrite.) -->\n",
    "\n",
    "As always, we're going to take a data-driven approach to grammar engineering.  We want to introduce rules which will enable us to handle the lexical items and syntactic structures that we actually observe in the Geo880 training data.  To that end, let's count the words that appear among the 600 training examples.  (We do _not_ examine the test data!)"
   ]
  },
  {
   "cell_type": "code",
   "execution_count": 9,
   "metadata": {
    "collapsed": false
   },
   "outputs": [
    {
     "name": "stdout",
     "output_type": "stream",
     "text": [
      "There were 5109 tokens of 248 types:\n",
      "\n",
      "the (618), ? (600), what (386), is (283), in (247), state (170), states (169), of (150), how (111), many (90), are (90), population (86), river (76), which (75), through (73), largest (67), border (65), texas (63), rivers (62), cities (56), point (55), highest (54), city (49), that (48), capital (48), with (44), has (43), major (42), run (34), smallest (31), people (29), mississippi (29), us (28), does (27), usa (26), most (26), longest (25), area (24), lowest (23), have (23), density (23), colorado (23), borders (23), new (22), live (22), where (17), runs (17), biggest (16), california (14), alaska (14), ...\n"
     ]
    }
   ],
   "source": [
    "from collections import defaultdict\n",
    "from operator import itemgetter\n",
    "from geo880 import geo880_train_examples\n",
    "\n",
    "words = [word for example in geo880_train_examples for word in example.input.split()]\n",
    "counts = defaultdict(int)\n",
    "for word in words:\n",
    "    counts[word] += 1\n",
    "counts = sorted([(count, word) for word, count in counts.items()], reverse=True)\n",
    "print('There were %d tokens of %d types:\\n' % (len(words), len(counts)))\n",
    "print(', '.join(['%s (%d)' % (word, count) for count, word in counts[:50]] + ['...']))"
   ]
  },
  {
   "cell_type": "markdown",
   "metadata": {},
   "source": [
    "There are at least four major categories of words here:\n",
    "- Words that refer to *entities*, such as \"texas\", \"mississippi\", \"usa\", and \"austin\".\n",
    "- Words that refer to *types*, such as \"state\", \"river\", and \"cities\".\n",
    "- Words that refer to *relations*, such as \"in\", \"borders\", \"capital\", and \"long\".\n",
    "- Other function words, such as \"the\", \"what\", \"how\", and \"are\".\n",
    "\n",
    "One might make finer distinctions, but this seems like a reasonable starting point.  Note that these categories do not always correspond to traditional syntactic categories.  While the entities are typically proper nouns, and the types are typically common nouns, the relations include prepositions, verbs, nouns, and adjectives.\n",
    "\n",
    "The design of our grammar will roughly follow this schema.  The major categories will include `$Entity`, `$Type`, `$Collection`, `$Relation`, and `$Optional`."
   ]
  },
  {
   "cell_type": "markdown",
   "metadata": {},
   "source": [
    "### Optionals"
   ]
  },
  {
   "cell_type": "markdown",
   "metadata": {},
   "source": [
    "In [Unit 2][], our grammar engineering process didn't really start cooking until we introduced optionals.  This time around, let's *begin* with the optionals.  We'll define as `$Optional` every word in the Geo880 training data which does not plainly refer to an entity, type, or relation.  And we'll let any query be preceded or followed by a sequence of one or more `$Optionals`.\n",
    "\n",
    "  [Unit 2]: ./sippycup-unit-2.ipynb"
   ]
  },
  {
   "cell_type": "code",
   "execution_count": 10,
   "metadata": {
    "collapsed": false
   },
   "outputs": [],
   "source": [
    "from parsing import Grammar, Rule\n",
    "\n",
    "optional_words = [\n",
    "    'the', '?', 'what', 'is', 'in', 'of', 'how', 'many', 'are', 'which', 'that',\n",
    "    'with', 'has', 'major', 'does', 'have', 'where', 'me', 'there', 'give',\n",
    "    'name', 'all', 'a', 'by', 'you', 'to', 'tell', 'other', 'it', 'do', 'whose',\n",
    "    'show', 'one', 'on', 'for', 'can', 'whats', 'urban', 'them', 'list',\n",
    "    'exist', 'each', 'could', 'about'\n",
    "]\n",
    "\n",
    "rules_optionals = [\n",
    "    Rule('$ROOT', '?$Optionals $Query ?$Optionals', lambda sems: sems[1]),\n",
    "    Rule('$Optionals', '$Optional ?$Optionals'),\n",
    "] + [Rule('$Optional', word) for word in optional_words]"
   ]
  },
  {
   "cell_type": "markdown",
   "metadata": {},
   "source": [
    "Because `$Query` has not yet been defined, we won't be able to parse anything yet."
   ]
  },
  {
   "cell_type": "markdown",
   "metadata": {},
   "source": [
    "### Entities and collections"
   ]
  },
  {
   "cell_type": "markdown",
   "metadata": {},
   "source": [
    "Our grammar will need to be able to recognize names of entities, such as `\"utah\"`.  There are hundreds of entities in Geobase, and we don't want to have to introduce a grammar rule for each entity.  Instead, we'll define a new annotator, `GeobaseAnnotator`, which simply annotates phrases which exactly match names in Geobase."
   ]
  },
  {
   "cell_type": "code",
   "execution_count": 11,
   "metadata": {
    "collapsed": false
   },
   "outputs": [],
   "source": [
    "from annotator import Annotator, NumberAnnotator\n",
    "\n",
    "class GeobaseAnnotator(Annotator):\n",
    "    def __init__(self, geobase):\n",
    "        self.geobase = geobase\n",
    "\n",
    "    def annotate(self, tokens):\n",
    "        phrase = ' '.join(tokens)\n",
    "        places = self.geobase.binaries_rev['name'][phrase]\n",
    "        return [('$Entity', place) for place in places]"
   ]
  },
  {
   "cell_type": "markdown",
   "metadata": {},
   "source": [
    "Now a couple of rules that will enable us to parse inputs that simply name locations, such as `\"utah\"`.\n",
    "\n",
    "(TODO: explain rationale for `$Collection` and `$Query`.)"
   ]
  },
  {
   "cell_type": "code",
   "execution_count": 12,
   "metadata": {
    "collapsed": false
   },
   "outputs": [],
   "source": [
    "rules_collection_entity = [\n",
    "    Rule('$Query', '$Collection', lambda sems: sems[0]),\n",
    "    Rule('$Collection', '$Entity', lambda sems: sems[0]),\n",
    "]\n",
    "\n",
    "rules = rules_optionals + rules_collection_entity"
   ]
  },
  {
   "cell_type": "markdown",
   "metadata": {},
   "source": [
    "Now let's make a grammar."
   ]
  },
  {
   "cell_type": "code",
   "execution_count": 13,
   "metadata": {
    "collapsed": false
   },
   "outputs": [
    {
     "name": "stdout",
     "output_type": "stream",
     "text": [
      "Created grammar with 48 rules\n"
     ]
    }
   ],
   "source": [
    "annotators = [NumberAnnotator(), GeobaseAnnotator(geobase)]\n",
    "grammar = Grammar(rules=rules, annotators=annotators)"
   ]
  },
  {
   "cell_type": "markdown",
   "metadata": {},
   "source": [
    "Let's try to parse some inputs which just name locations."
   ]
  },
  {
   "cell_type": "code",
   "execution_count": 14,
   "metadata": {
    "collapsed": false
   },
   "outputs": [
    {
     "name": "stdout",
     "output_type": "stream",
     "text": [
      "/state/utah\n",
      "('/state/utah',)\n"
     ]
    }
   ],
   "source": [
    "parses = grammar.parse_input('what is utah')\n",
    "for parse in parses[:1]:\n",
    "    print('\\n'.join([str(parse.semantics), str(executor.execute(parse.semantics))]))"
   ]
  },
  {
   "cell_type": "markdown",
   "metadata": {},
   "source": [
    "Great, it worked.  Now let's run an evaluation on the Geo880 training examples."
   ]
  },
  {
   "cell_type": "code",
   "execution_count": 15,
   "metadata": {
    "collapsed": false
   },
   "outputs": [
    {
     "name": "stdout",
     "output_type": "stream",
     "text": [
      "GeobaseReader read 51 state rows.\n",
      "GeobaseReader read 386 city rows.\n",
      "GeobaseReader read 46 river rows.\n",
      "GeobaseReader read 51 border rows.\n",
      "GeobaseReader read 51 highlow rows.\n",
      "GeobaseReader read 50 mountain rows.\n",
      "GeobaseReader read 40 road rows.\n",
      "GeobaseReader read 22 lake rows.\n",
      "GeobaseReader read 1 country row.\n",
      "GeobaseReader computed transitive closure of 'contains', adding 495 edges\n",
      "================================================================================\n",
      "Evaluating on 600 examples\n",
      "\n",
      "--------------------------------------------------------------------------------\n",
      "Over 600 examples:\n",
      "\n",
      "denotation accuracy                0.000\n",
      "denotation oracle accuracy         0.000\n",
      "number of parses                   0.028\n",
      "spurious ambiguity                 0.000\n",
      "\n",
      "0 of 0 wins on denotation oracle accuracy:\n",
      "\n",
      "\n",
      "10 of 600 losses on denotation oracle accuracy:\n",
      "\n",
      "  how long is the shortest river in the usa ?\n",
      "  name the states which have no surrounding states ?\n",
      "  what is the capital of the state with the highest point ?\n",
      "  what is the capital of utah ?\n",
      "  what is the highest elevation in new mexico ?\n",
      "  what is the highest point in the smallest state ?\n",
      "  what is the population density of wyoming ?\n",
      "  what is the total population of the states that border texas ?\n",
      "  what state has the largest population ?\n",
      "  what states does the mississippi run through ?\n",
      "\n"
     ]
    }
   ],
   "source": [
    "from experiment import sample_wins_and_losses\n",
    "from geoquery import GeoQueryDomain\n",
    "from metrics import DenotationOracleAccuracyMetric\n",
    "from scoring import Model\n",
    "\n",
    "domain = GeoQueryDomain()\n",
    "model = Model(grammar=grammar, executor=executor.execute)\n",
    "metric = DenotationOracleAccuracyMetric()\n",
    "\n",
    "sample_wins_and_losses(domain=domain, model=model, metric=metric, seed=1)"
   ]
  },
  {
   "cell_type": "markdown",
   "metadata": {},
   "source": [
    "We don't yet have a single win: denotation oracle accuracy remains stuck at zero.  However, the average number of parses is slightly greater than zero, meaning that there are a few examples which our grammar can parse (though not correctly).  It would be interesting to know which examples.  There's a utility function in [`experiment.py`](./experiment.py) which will give you the visibility you need.  See if you can figure out what to do.\n",
    "\n",
    "<!-- 'where is san diego ?' is parsed as '/city/san_diego_ca' -->"
   ]
  },
  {
   "cell_type": "markdown",
   "metadata": {},
   "source": [
    "### Types"
   ]
  },
  {
   "cell_type": "markdown",
   "metadata": {},
   "source": [
    "(TODO: the words in the training data include lots of words for types.  Let's write down some lexical rules defining the category `$Type`, guided as usual by the words we actually see in the training data.  We'll also make `$Type` a kind of `$Collection`.)"
   ]
  },
  {
   "cell_type": "code",
   "execution_count": 16,
   "metadata": {
    "collapsed": false
   },
   "outputs": [],
   "source": [
    "rules_types = [\n",
    "    Rule('$Collection', '$Type', lambda sems: sems[0]),\n",
    "\n",
    "    Rule('$Type', 'state', 'state'),\n",
    "    Rule('$Type', 'states', 'state'),\n",
    "    Rule('$Type', 'city', 'city'),\n",
    "    Rule('$Type', 'cities', 'city'),\n",
    "    Rule('$Type', 'big cities', 'city'),\n",
    "    Rule('$Type', 'towns', 'city'),\n",
    "    Rule('$Type', 'river', 'river'),\n",
    "    Rule('$Type', 'rivers', 'river'),\n",
    "    Rule('$Type', 'mountain', 'mountain'),\n",
    "    Rule('$Type', 'mountains', 'mountain'),\n",
    "    Rule('$Type', 'mount', 'mountain'),\n",
    "    Rule('$Type', 'peak', 'mountain'),\n",
    "    Rule('$Type', 'road', 'road'),\n",
    "    Rule('$Type', 'roads', 'road'),\n",
    "    Rule('$Type', 'lake', 'lake'),\n",
    "    Rule('$Type', 'lakes', 'lake'),\n",
    "    Rule('$Type', 'country', 'country'),\n",
    "    Rule('$Type', 'countries', 'country'),\n",
    "]"
   ]
  },
  {
   "cell_type": "markdown",
   "metadata": {},
   "source": [
    "We should now be able to parse inputs denoting types, such as `\"name the lakes\"`:"
   ]
  },
  {
   "cell_type": "code",
   "execution_count": 17,
   "metadata": {
    "collapsed": false
   },
   "outputs": [
    {
     "name": "stdout",
     "output_type": "stream",
     "text": [
      "Created grammar with 67 rules\n",
      "lake\n",
      "('/lake/becharof', '/lake/champlain', '/lake/erie', '/lake/flathead', '/lake/great_salt_lake', '/lake/huron', '/lake/iliamna', '/lake/lake_of_the_woods', '/lake/michigan', '/lake/mille_lacs', '/lake/naknek', '/lake/okeechobee', '/lake/ontario', '/lake/pontchartrain', '/lake/rainy', '/lake/red', '/lake/salton_sea', '/lake/st._clair', '/lake/superior', '/lake/tahoe', '/lake/teshekpuk', '/lake/winnebago')\n"
     ]
    }
   ],
   "source": [
    "rules = rules_optionals + rules_collection_entity + rules_types\n",
    "grammar = Grammar(rules=rules, annotators=annotators)\n",
    "parses = grammar.parse_input('name the lakes')\n",
    "for parse in parses[:1]:\n",
    "    print('\\n'.join([str(parse.semantics), str(executor.execute(parse.semantics))]))"
   ]
  },
  {
   "cell_type": "markdown",
   "metadata": {},
   "source": [
    "It worked.  Let's evaluate on the Geo880 training data again."
   ]
  },
  {
   "cell_type": "code",
   "execution_count": 18,
   "metadata": {
    "collapsed": false
   },
   "outputs": [
    {
     "name": "stdout",
     "output_type": "stream",
     "text": [
      "================================================================================\n",
      "Evaluating on 600 examples\n",
      "\n",
      "--------------------------------------------------------------------------------\n",
      "Over 600 examples:\n",
      "\n",
      "denotation accuracy                0.003\n",
      "denotation oracle accuracy         0.003\n",
      "number of parses                   0.033\n",
      "spurious ambiguity                 0.000\n",
      "\n",
      "2 of 2 wins on denotation oracle accuracy:\n",
      "\n",
      "  list the states ?\n",
      "  what are the states ?\n",
      "\n",
      "10 of 598 losses on denotation oracle accuracy:\n",
      "\n",
      "  give me the cities which are in texas ?\n",
      "  how many people are there in iowa ?\n",
      "  how many states have major rivers ?\n",
      "  name the rivers in arkansas ?\n",
      "  what river runs through virginia ?\n",
      "  what rivers are in utah ?\n",
      "  what state has the highest elevation ?\n",
      "  what states border rhode island ?\n",
      "  where is mount whitney located ?\n",
      "  which rivers run through the state with the largest city in the us ?\n",
      "\n"
     ]
    }
   ],
   "source": [
    "model = Model(grammar=grammar, executor=executor.execute)\n",
    "sample_wins_and_losses(domain=domain, model=model, metric=metric, seed=1)"
   ]
  },
  {
   "cell_type": "markdown",
   "metadata": {},
   "source": [
    "Liftoff!  We have two wins, and denotation oracle accuracy is greater than zero!  Just barely."
   ]
  },
  {
   "cell_type": "markdown",
   "metadata": {},
   "source": [
    "### Relations and joins"
   ]
  },
  {
   "cell_type": "markdown",
   "metadata": {},
   "source": [
    "In order to really make this bird fly, we're going to have to handle relations.  In particular, we'd like to be able to parse queries which combine a relation with an entity or collection, such as `\"what is the capital of vermont\"`.\n",
    "\n",
    "As usual, we'll adopt a data-driven approach.  The training examples include lots of words and phrases which refer to relations, both \"forward\" relations (like `\"traverses\"`) and \"reverse\" relations (like `\"traversed by\"`).  Guided by the training data, we'll write lexical rules which define the categories `$FwdRelation` and `$RevRelation`.  Then we'll add rules that allow either a `$FwdRelation` or a `$RevRelation` to be promoted to a generic `$Relation`, with semantic functions which ensure that the semantics are constructed with the proper orientation.  Finally, we'll define a rule for _joining_ a `$Relation` (such as `\"capital of\"`) with a `$Collection` (such as `\"vermont\"`) to yield another `$Collection` (such as `\"capital of vermont\"`).\n",
    "\n",
    "<!-- (TODO: Give a fuller explanation of what's going on with the semantics.) -->"
   ]
  },
  {
   "cell_type": "code",
   "execution_count": 19,
   "metadata": {
    "collapsed": true
   },
   "outputs": [],
   "source": [
    "rules_relations = [\n",
    "    Rule('$Collection', '$Relation ?$Optionals $Collection', lambda sems: sems[0](sems[2])),\n",
    "\n",
    "    Rule('$Relation', '$FwdRelation', lambda sems: (lambda arg: (sems[0], arg))),\n",
    "    Rule('$Relation', '$RevRelation', lambda sems: (lambda arg: (arg, sems[0]))),\n",
    "\n",
    "    Rule('$FwdRelation', '$FwdBordersRelation', 'borders'),\n",
    "    Rule('$FwdBordersRelation', 'border'),\n",
    "    Rule('$FwdBordersRelation', 'bordering'),\n",
    "    Rule('$FwdBordersRelation', 'borders'),\n",
    "    Rule('$FwdBordersRelation', 'neighbor'),\n",
    "    Rule('$FwdBordersRelation', 'neighboring'),\n",
    "    Rule('$FwdBordersRelation', 'surrounding'),\n",
    "    Rule('$FwdBordersRelation', 'next to'),\n",
    "\n",
    "    Rule('$FwdRelation', '$FwdTraversesRelation', 'traverses'),\n",
    "    Rule('$FwdTraversesRelation', 'cross ?over'),\n",
    "    Rule('$FwdTraversesRelation', 'flow through'),\n",
    "    Rule('$FwdTraversesRelation', 'flowing through'),\n",
    "    Rule('$FwdTraversesRelation', 'flows through'),\n",
    "    Rule('$FwdTraversesRelation', 'go through'),\n",
    "    Rule('$FwdTraversesRelation', 'goes through'),\n",
    "    Rule('$FwdTraversesRelation', 'in'),\n",
    "    Rule('$FwdTraversesRelation', 'pass through'),\n",
    "    Rule('$FwdTraversesRelation', 'passes through'),\n",
    "    Rule('$FwdTraversesRelation', 'run through'),\n",
    "    Rule('$FwdTraversesRelation', 'running through'),\n",
    "    Rule('$FwdTraversesRelation', 'runs through'),\n",
    "    Rule('$FwdTraversesRelation', 'traverse'),\n",
    "    Rule('$FwdTraversesRelation', 'traverses'),\n",
    "\n",
    "    Rule('$RevRelation', '$RevTraversesRelation', 'traverses'),\n",
    "    Rule('$RevTraversesRelation', 'has'),\n",
    "    Rule('$RevTraversesRelation', 'have'),  # 'how many states have major rivers'\n",
    "    Rule('$RevTraversesRelation', 'lie on'),\n",
    "    Rule('$RevTraversesRelation', 'next to'),\n",
    "    Rule('$RevTraversesRelation', 'traversed by'),\n",
    "    Rule('$RevTraversesRelation', 'washed by'),\n",
    "\n",
    "    Rule('$FwdRelation', '$FwdContainsRelation', 'contains'),\n",
    "    # 'how many states have a city named springfield'\n",
    "    Rule('$FwdContainsRelation', 'has'),\n",
    "    Rule('$FwdContainsRelation', 'have'),\n",
    "\n",
    "    Rule('$RevRelation', '$RevContainsRelation', 'contains'),\n",
    "    Rule('$RevContainsRelation', 'contained by'),\n",
    "    Rule('$RevContainsRelation', 'in'),\n",
    "    Rule('$RevContainsRelation', 'found in'),\n",
    "    Rule('$RevContainsRelation', 'located in'),\n",
    "    Rule('$RevContainsRelation', 'of'),\n",
    "\n",
    "    Rule('$RevRelation', '$RevCapitalRelation', 'capital'),\n",
    "    Rule('$RevCapitalRelation', 'capital'),\n",
    "    Rule('$RevCapitalRelation', 'capitals'),\n",
    "\n",
    "    Rule('$RevRelation', '$RevHighestPointRelation', 'highest_point'),\n",
    "    Rule('$RevHighestPointRelation', 'high point'),\n",
    "    Rule('$RevHighestPointRelation', 'high points'),\n",
    "    Rule('$RevHighestPointRelation', 'highest point'),\n",
    "    Rule('$RevHighestPointRelation', 'highest points'),\n",
    "\n",
    "    Rule('$RevRelation', '$RevLowestPointRelation', 'lowest_point'),\n",
    "    Rule('$RevLowestPointRelation', 'low point'),\n",
    "    Rule('$RevLowestPointRelation', 'low points'),\n",
    "    Rule('$RevLowestPointRelation', 'lowest point'),\n",
    "    Rule('$RevLowestPointRelation', 'lowest points'),\n",
    "    Rule('$RevLowestPointRelation', 'lowest spot'),\n",
    "\n",
    "    Rule('$RevRelation', '$RevHighestElevationRelation', 'highest_elevation'),\n",
    "    Rule('$RevHighestElevationRelation', '?highest elevation'),\n",
    "\n",
    "    Rule('$RevRelation', '$RevHeightRelation', 'height'),\n",
    "    Rule('$RevHeightRelation', 'elevation'),\n",
    "    Rule('$RevHeightRelation', 'height'),\n",
    "    Rule('$RevHeightRelation', 'high'),\n",
    "    Rule('$RevHeightRelation', 'tall'),\n",
    "\n",
    "    Rule('$RevRelation', '$RevAreaRelation', 'area'),\n",
    "    Rule('$RevAreaRelation', 'area'),\n",
    "    Rule('$RevAreaRelation', 'big'),\n",
    "    Rule('$RevAreaRelation', 'large'),\n",
    "    Rule('$RevAreaRelation', 'size'),\n",
    "\n",
    "    Rule('$RevRelation', '$RevPopulationRelation', 'population'),\n",
    "    Rule('$RevPopulationRelation', 'big'),\n",
    "    Rule('$RevPopulationRelation', 'large'),\n",
    "    Rule('$RevPopulationRelation', 'populated'),\n",
    "    Rule('$RevPopulationRelation', 'population'),\n",
    "    Rule('$RevPopulationRelation', 'populations'),\n",
    "    Rule('$RevPopulationRelation', 'populous'),\n",
    "    Rule('$RevPopulationRelation', 'size'),\n",
    "\n",
    "    Rule('$RevRelation', '$RevLengthRelation', 'length'),\n",
    "    Rule('$RevLengthRelation', 'length'),\n",
    "    Rule('$RevLengthRelation', 'long'),\n",
    "]"
   ]
  },
  {
   "cell_type": "markdown",
   "metadata": {},
   "source": [
    "We should now be able to parse `\"what is the capital of vermont\"`.  Let's see:"
   ]
  },
  {
   "cell_type": "code",
   "execution_count": 20,
   "metadata": {
    "collapsed": false
   },
   "outputs": [
    {
     "name": "stdout",
     "output_type": "stream",
     "text": [
      "Created grammar with 146 rules\n",
      "('/state/vermont', 'capital')\n",
      "('/city/montpelier_vt',)\n"
     ]
    }
   ],
   "source": [
    "rules = rules_optionals + rules_collection_entity + rules_types + rules_relations\n",
    "grammar = Grammar(rules=rules, annotators=annotators)\n",
    "parses = grammar.parse_input('what is the capital of vermont ?')\n",
    "for parse in parses[:1]:\n",
    "    print('\\n'.join([str(parse.semantics), str(executor.execute(parse.semantics))]))"
   ]
  },
  {
   "cell_type": "markdown",
   "metadata": {},
   "source": [
    "Montpelier!  I always forget that one.\n",
    "\n",
    "OK, let's evaluate our progress on the Geo880 training data."
   ]
  },
  {
   "cell_type": "code",
   "execution_count": 21,
   "metadata": {
    "collapsed": false
   },
   "outputs": [
    {
     "name": "stdout",
     "output_type": "stream",
     "text": [
      "================================================================================\n",
      "Evaluating on 600 examples\n",
      "\n",
      "--------------------------------------------------------------------------------\n",
      "Over 600 examples:\n",
      "\n",
      "denotation accuracy                0.113\n",
      "denotation oracle accuracy         0.125\n",
      "number of parses                   0.427\n",
      "spurious ambiguity                 0.000\n",
      "\n",
      "5 of 75 wins on denotation oracle accuracy:\n",
      "\n",
      "  what is the capital of utah ?\n",
      "  what is the highest point in texas ?\n",
      "  what is the population of idaho ?\n",
      "  what is the population of rhode island ?\n",
      "  what is the population of sacramento ?\n",
      "\n",
      "10 of 525 losses on denotation oracle accuracy:\n",
      "\n",
      "  give me the longest river that passes through the us ?\n",
      "  how many cities are there in the us ?\n",
      "  what are the major cities in new mexico ?\n",
      "  what are the states through which the longest river runs ?\n",
      "  what is the area of the state with the smallest population density ?\n",
      "  what is the biggest city in usa ?\n",
      "  what is the highest elevation in new mexico ?\n",
      "  what is the largest state capital in population ?\n",
      "  what river traverses the most states ?\n",
      "  what states border hawaii ?\n",
      "\n"
     ]
    }
   ],
   "source": [
    "model = Model(grammar=grammar, executor=executor.execute)\n",
    "sample_wins_and_losses(domain=domain, model=model, metric=metric, seed=1)"
   ]
  },
  {
   "cell_type": "markdown",
   "metadata": {},
   "source": [
    "Hot diggity, it's working.  Denotation oracle accuracy is over 12%, double digits.  We have 75 wins, and they're what we expect: queries that simply combine a relation and an entity (or collection)."
   ]
  },
  {
   "cell_type": "markdown",
   "metadata": {},
   "source": [
    "### Intersections"
   ]
  },
  {
   "cell_type": "code",
   "execution_count": 22,
   "metadata": {
    "collapsed": true
   },
   "outputs": [],
   "source": [
    "rules_intersection = [\n",
    "    Rule('$Collection', '$Collection $Collection',\n",
    "         lambda sems: ('.and', sems[0], sems[1])),\n",
    "    Rule('$Collection', '$Collection $Optional $Collection',\n",
    "         lambda sems: ('.and', sems[0], sems[2])),\n",
    "    Rule('$Collection', '$Collection $Optional $Optional $Collection',\n",
    "         lambda sems: ('.and', sems[0], sems[3])),\n",
    "]"
   ]
  },
  {
   "cell_type": "code",
   "execution_count": 23,
   "metadata": {
    "collapsed": false
   },
   "outputs": [
    {
     "name": "stdout",
     "output_type": "stream",
     "text": [
      "Created grammar with 149 rules\n",
      "('.and', 'state', ('borders', '/state/california'))\n",
      "('/state/arizona', '/state/nevada', '/state/oregon')\n"
     ]
    }
   ],
   "source": [
    "rules = rules_optionals + rules_collection_entity + rules_types + rules_relations + rules_intersection\n",
    "grammar = Grammar(rules=rules, annotators=annotators)\n",
    "parses = grammar.parse_input('states bordering california')\n",
    "for parse in parses[:1]:\n",
    "    print('\\n'.join([str(parse.semantics), str(executor.execute(parse.semantics))]))"
   ]
  },
  {
   "cell_type": "markdown",
   "metadata": {},
   "source": [
    "Let's evaluate the impact on the Geo880 training examples."
   ]
  },
  {
   "cell_type": "code",
   "execution_count": 24,
   "metadata": {
    "collapsed": false
   },
   "outputs": [
    {
     "name": "stdout",
     "output_type": "stream",
     "text": [
      "================================================================================\n",
      "Evaluating on 600 examples\n",
      "\n",
      "--------------------------------------------------------------------------------\n",
      "Over 600 examples:\n",
      "\n",
      "denotation accuracy                0.198\n",
      "denotation oracle accuracy         0.277\n",
      "number of parses                   1.962\n",
      "spurious ambiguity                 0.000\n",
      "\n",
      "5 of 166 wins on denotation oracle accuracy:\n",
      "\n",
      "  give me the cities in virginia ?\n",
      "  how high is guadalupe peak ?\n",
      "  what are the neighboring states for michigan ?\n",
      "  what is the lowest point in louisiana ?\n",
      "  what rivers run through west virginia ?\n",
      "\n",
      "10 of 434 losses on denotation oracle accuracy:\n",
      "\n",
      "  what is the largest state traversed by the mississippi river ?\n",
      "  what is the longest river ?\n",
      "  what is the longest river in pennsylvania ?\n",
      "  what is the most populous state in the us ?\n",
      "  what is the name of the state with the lowest point ?\n",
      "  what is the population density of the state with the smallest area ?\n",
      "  what is the shortest river in nebraska ?\n",
      "  what rivers flow through states that alabama borders ?\n",
      "  where is san jose ?\n",
      "  which state is the largest city in montana in ?\n",
      "\n"
     ]
    }
   ],
   "source": [
    "model = Model(grammar=grammar, executor=executor.execute)\n",
    "sample_wins_and_losses(domain=domain, model=model, metric=metric, seed=1)"
   ]
  },
  {
   "cell_type": "markdown",
   "metadata": {},
   "source": [
    "Great, denotation oracle accuracy has more than doubled, from 12% to 28%.  And the wins now include intersections like `\"which states border new york\"`.  The losses, however, are clearly dominated by one category of error."
   ]
  },
  {
   "cell_type": "markdown",
   "metadata": {},
   "source": [
    "### Superlatives"
   ]
  },
  {
   "cell_type": "markdown",
   "metadata": {},
   "source": [
    "Many of the losses involve superlatives, such as `\"biggest\"` or `\"shortest\"`.  Let's remedy that.  As usual, we let the training examples guide us in adding lexical rules."
   ]
  },
  {
   "cell_type": "code",
   "execution_count": 25,
   "metadata": {
    "collapsed": true
   },
   "outputs": [],
   "source": [
    "rules_superlatives = [\n",
    "    Rule('$Collection', '$Superlative ?$Optionals $Collection', lambda sems: sems[0] + (sems[2],)),\n",
    "    Rule('$Collection', '$Collection ?$Optionals $Superlative', lambda sems: sems[2] + (sems[0],)),\n",
    "\n",
    "    Rule('$Superlative', 'largest', ('.argmax', 'area')),\n",
    "    Rule('$Superlative', 'largest', ('.argmax', 'population')),\n",
    "    Rule('$Superlative', 'biggest', ('.argmax', 'area')),\n",
    "    Rule('$Superlative', 'biggest', ('.argmax', 'population')),\n",
    "    Rule('$Superlative', 'smallest', ('.argmin', 'area')),\n",
    "    Rule('$Superlative', 'smallest', ('.argmin', 'population')),\n",
    "    Rule('$Superlative', 'longest', ('.argmax', 'length')),\n",
    "    Rule('$Superlative', 'shortest', ('.argmin', 'length')),\n",
    "    Rule('$Superlative', 'tallest', ('.argmax', 'height')),\n",
    "    Rule('$Superlative', 'highest', ('.argmax', 'height')),\n",
    "\n",
    "    Rule('$Superlative', '$MostLeast $RevRelation', lambda sems: (sems[0], sems[1])),\n",
    "    Rule('$MostLeast', 'most', '.argmax'),\n",
    "    Rule('$MostLeast', 'least', '.argmin'),\n",
    "    Rule('$MostLeast', 'lowest', '.argmin'),\n",
    "    Rule('$MostLeast', 'greatest', '.argmax'),\n",
    "    Rule('$MostLeast', 'highest', '.argmax'),\n",
    "]"
   ]
  },
  {
   "cell_type": "markdown",
   "metadata": {},
   "source": [
    "Now we should be able to parse `\"tallest mountain\"`:"
   ]
  },
  {
   "cell_type": "code",
   "execution_count": 26,
   "metadata": {
    "collapsed": false
   },
   "outputs": [
    {
     "name": "stdout",
     "output_type": "stream",
     "text": [
      "Created grammar with 167 rules\n",
      "('.argmax', 'height', 'mountain')\n",
      "('/mountain/mckinley',)\n"
     ]
    }
   ],
   "source": [
    "rules = rules_optionals + rules_collection_entity + rules_types + rules_relations + rules_intersection + rules_superlatives\n",
    "grammar = Grammar(rules=rules, annotators=annotators)\n",
    "parses = grammar.parse_input('tallest mountain')\n",
    "for parse in parses[:1]:\n",
    "    print('\\n'.join([str(parse.semantics), str(executor.execute(parse.semantics))]))"
   ]
  },
  {
   "cell_type": "markdown",
   "metadata": {},
   "source": [
    "Let's evaluate the impact on the Geo880 training examples."
   ]
  },
  {
   "cell_type": "code",
   "execution_count": 27,
   "metadata": {
    "collapsed": false
   },
   "outputs": [
    {
     "name": "stdout",
     "output_type": "stream",
     "text": [
      "================================================================================\n",
      "Evaluating on 600 examples\n",
      "\n",
      "--------------------------------------------------------------------------------\n",
      "Over 600 examples:\n",
      "\n",
      "denotation accuracy                0.245\n",
      "denotation oracle accuracy         0.422\n",
      "number of parses                   4.430\n",
      "spurious ambiguity                 0.000\n",
      "\n",
      "5 of 253 wins on denotation oracle accuracy:\n",
      "\n",
      "  what can you tell me about the population of missouri ?\n",
      "  what is the population of texas ?\n",
      "  what state borders michigan ?\n",
      "  what state has the city with the most population ?\n",
      "  where is the lowest spot in iowa ?\n",
      "\n",
      "10 of 347 losses on denotation oracle accuracy:\n",
      "\n",
      "  how many states are next to major rivers ?\n",
      "  how many states have cities named austin ?\n",
      "  how many states have cities or towns named springfield ?\n",
      "  number of citizens in boulder ?\n",
      "  of the states washed by the mississippi river which has the lowest point ?\n",
      "  what is the highest point in the united states ?\n",
      "  what is the longest river in the state with the highest point ?\n",
      "  what is the population of springfield missouri ?\n",
      "  what state has the largest urban population ?\n",
      "  what state has the smallest population density ?\n",
      "\n"
     ]
    }
   ],
   "source": [
    "model = Model(grammar=grammar, executor=executor.execute)\n",
    "sample_wins_and_losses(domain=domain, model=model, metric=metric, seed=1)"
   ]
  },
  {
   "cell_type": "markdown",
   "metadata": {},
   "source": [
    "Wow, superlatives make a big difference.  Denotation oracle accuracy has surged from 28% to 42%."
   ]
  },
  {
   "cell_type": "markdown",
   "metadata": {},
   "source": [
    "### Reverse joins"
   ]
  },
  {
   "cell_type": "code",
   "execution_count": 28,
   "metadata": {
    "collapsed": true
   },
   "outputs": [],
   "source": [
    "def reverse(relation_sem):\n",
    "    \"\"\"TODO\"\"\"\n",
    "    # relation_sem is a lambda function which takes an arg and forms a pair,\n",
    "    # either (rel, arg) or (arg, rel).  We want to swap the order of the pair.\n",
    "    def apply_and_swap(arg):\n",
    "        pair = relation_sem(arg)\n",
    "        return (pair[1], pair[0])\n",
    "    return apply_and_swap\n",
    "\n",
    "rules_reverse_joins = [\n",
    "    Rule('$Collection', '$Collection ?$Optionals $Relation',\n",
    "         lambda sems: reverse(sems[2])(sems[0])),\n",
    "]"
   ]
  },
  {
   "cell_type": "code",
   "execution_count": 29,
   "metadata": {
    "collapsed": false
   },
   "outputs": [
    {
     "name": "stdout",
     "output_type": "stream",
     "text": [
      "Created grammar with 168 rules\n",
      "('.and', 'state', ('/river/rio_grande', 'traverses'))\n",
      "('/state/colorado', '/state/new_mexico', '/state/texas')\n"
     ]
    }
   ],
   "source": [
    "rules = rules_optionals + rules_collection_entity + rules_types + rules_relations + rules_intersection + rules_superlatives + rules_reverse_joins\n",
    "grammar = Grammar(rules=rules, annotators=annotators)\n",
    "parses = grammar.parse_input('which states does the rio grande cross')\n",
    "for parse in parses[:1]:\n",
    "    print('\\n'.join([str(parse.semantics), str(executor.execute(parse.semantics))]))"
   ]
  },
  {
   "cell_type": "markdown",
   "metadata": {},
   "source": [
    "Let's evaluate the impact on the Geo880 training examples."
   ]
  },
  {
   "cell_type": "code",
   "execution_count": 30,
   "metadata": {
    "collapsed": false
   },
   "outputs": [
    {
     "name": "stdout",
     "output_type": "stream",
     "text": [
      "================================================================================\n",
      "Evaluating on 600 examples\n",
      "\n",
      "--------------------------------------------------------------------------------\n",
      "Max cell capacity 1000 has been hit 1 times\n",
      "Max cell capacity 1000 has been hit 2 times\n",
      "Max cell capacity 1000 has been hit 4 times\n",
      "Max cell capacity 1000 has been hit 8 times\n",
      "Max cell capacity 1000 has been hit 16 times\n",
      "Max cell capacity 1000 has been hit 32 times\n",
      "Over 600 examples:\n",
      "\n",
      "denotation accuracy                0.257\n",
      "denotation oracle accuracy         0.468\n",
      "number of parses                   13.210\n",
      "spurious ambiguity                 0.001\n",
      "\n",
      "Max cell capacity 1000 has been hit 64 times\n",
      "5 of 281 wins on denotation oracle accuracy:\n",
      "\n",
      "  how long is the mississippi ?\n",
      "  what is the biggest city in oregon ?\n",
      "  what is the biggest city in wyoming ?\n",
      "  what is the capital of washington ?\n",
      "  what is the smallest city in the largest state ?\n",
      "\n",
      "10 of 319 losses on denotation oracle accuracy:\n",
      "\n",
      "  how many people live in the state with the largest population density ?\n",
      "  how many rivers are found in colorado ?\n",
      "  how many rivers are there in idaho ?\n",
      "  name the major lakes in michigan ?\n",
      "  what are the major cities in the smallest state in the us ?\n",
      "  what is the tallest mountain in america ?\n",
      "  what river is the longest one in the united states ?\n",
      "  what rivers run through the states that border the state with the capital atlanta ?\n",
      "  where is indianapolis ?\n",
      "  which states border the longest river in the usa ?\n",
      "\n"
     ]
    }
   ],
   "source": [
    "model = Model(grammar=grammar, executor=executor.execute)\n",
    "sample_wins_and_losses(domain=domain, model=model, metric=metric, seed=1)"
   ]
  },
  {
   "cell_type": "markdown",
   "metadata": {},
   "source": [
    "This time the gain in denotation oracle accuracy was more modest, from 42% to 47%.  Still, we are making good progress.  However, note that a substantial gap has opened between accuracy and oracle accuracy.  This indicates that we could benefit from adding a scoring model."
   ]
  },
  {
   "cell_type": "markdown",
   "metadata": {},
   "source": [
    "## Feature engineering"
   ]
  },
  {
   "cell_type": "markdown",
   "metadata": {},
   "source": [
    "Through an iterative process of grammar engineering, we've managed to increase denotation oracle accuracy of 47%.  But we've been ignoring denotation accuracy, which now lags far behind, at 25%.  This represents an opportunity.\n",
    "\n",
    "In order to figure out how best to fix the problem, we need to do some error analysis.  Let's look for some specific examples where denotation accuracy is 0, even though denotation oracle accuracy is 1.  In other words, let's look for some examples where we have a correct parse, but it's not ranked at the top.  We should be able to find some cases like that among the first ten examples of the Geo880 training data."
   ]
  },
  {
   "cell_type": "code",
   "execution_count": 31,
   "metadata": {
    "collapsed": false
   },
   "outputs": [
    {
     "name": "stdout",
     "output_type": "stream",
     "text": [
      "================================================================================\n",
      "Evaluating on 10 examples\n",
      "\n",
      "--------------------------------------------------------------------------------\n",
      "input                              what is the highest point in florida ?\n",
      "target denotation                  ('/place/walton_county',)\n",
      "\n",
      "denotation accuracy                1\n",
      "denotation oracle accuracy         1\n",
      "number of parses                   3\n",
      "spurious ambiguity                 0\n",
      "\n",
      "0      0.000   semantics           ('/state/florida', 'highest_point')\n",
      "               denotation      +   ('/place/walton_county',)\n",
      "1      0.000   semantics           (('traverses', '/state/florida'), 'highest_point')\n",
      "               denotation      -   ()\n",
      "2      0.000   semantics           (('/state/florida', 'contains'), 'highest_point')\n",
      "               denotation      -   ()\n",
      "\n",
      "--------------------------------------------------------------------------------\n",
      "input                              what are the high points of states surrounding mississippi ?\n",
      "target denotation                  ('/place/cheaha_mountain', '/place/clingmans_dome', '/place/driskill_mountain', '/place/magazine_mountain')\n",
      "\n",
      "denotation accuracy                1\n",
      "denotation oracle accuracy         1\n",
      "number of parses                   28\n",
      "spurious ambiguity                 0\n",
      "\n",
      "0      0.000   semantics           (('.and', 'state', ('borders', '/state/mississippi')), 'highest_point')\n",
      "               denotation      +   ('/place/cheaha_mountain', '/place/clingmans_dome', '/place/driskill_mountain', '/place/magazine_mountain')\n",
      "1      0.000   semantics           (('.and', 'state', ('borders', '/river/mississippi')), 'highest_point')\n",
      "               denotation      -   ()\n",
      "2      0.000   semantics           (('.and', ('state', 'borders'), '/state/mississippi'), 'highest_point')\n",
      "               denotation      -   ('/place/woodall_mountain',)\n",
      "3      0.000   semantics           (('.and', ('state', 'borders'), '/river/mississippi'), 'highest_point')\n",
      "               denotation      -   ()\n",
      "4      0.000   semantics           ((('.and', 'state', ('borders', '/state/mississippi')), 'contains'), 'highest_point')\n",
      "               denotation      -   ()\n",
      "5      0.000   semantics           ((('.and', 'state', ('borders', '/river/mississippi')), 'contains'), 'highest_point')\n",
      "               denotation      -   ()\n",
      "6      0.000   semantics           ((('.and', ('state', 'borders'), '/state/mississippi'), 'contains'), 'highest_point')\n",
      "               denotation      -   ()\n",
      "7      0.000   semantics           ((('.and', ('state', 'borders'), '/river/mississippi'), 'contains'), 'highest_point')\n",
      "               denotation      -   ()\n",
      "8      0.000   semantics           (('.and', ('state', 'contains'), ('borders', '/state/mississippi')), 'highest_point')\n",
      "               denotation      -   ()\n",
      "9      0.000   semantics           (('.and', ('state', 'contains'), ('borders', '/river/mississippi')), 'highest_point')\n",
      "               denotation      -   ()\n",
      "10     0.000   semantics           (('.and', (('state', 'borders'), 'contains'), '/state/mississippi'), 'highest_point')\n",
      "               denotation      -   ()\n",
      "11     0.000   semantics           (('.and', (('state', 'borders'), 'contains'), '/river/mississippi'), 'highest_point')\n",
      "               denotation      -   ()\n",
      "12     0.000   semantics           (('.and', (('state', 'contains'), 'borders'), '/state/mississippi'), 'highest_point')\n",
      "               denotation      -   ()\n",
      "13     0.000   semantics           (('.and', (('state', 'contains'), 'borders'), '/river/mississippi'), 'highest_point')\n",
      "               denotation      -   ()\n",
      "14     0.000   semantics           ('.and', ('state', 'highest_point'), ('borders', '/state/mississippi'))\n",
      "               denotation      -   ()\n",
      "15     0.000   semantics           ('.and', ('state', 'highest_point'), ('borders', '/river/mississippi'))\n",
      "               denotation      -   ()\n",
      "16     0.000   semantics           ('.and', (('state', 'contains'), 'highest_point'), ('borders', '/state/mississippi'))\n",
      "               denotation      -   ()\n",
      "17     0.000   semantics           ('.and', (('state', 'contains'), 'highest_point'), ('borders', '/river/mississippi'))\n",
      "               denotation      -   ()\n",
      "18     0.000   semantics           ('.and', (('state', 'borders'), 'highest_point'), '/state/mississippi')\n",
      "               denotation      -   ()\n",
      "19     0.000   semantics           ('.and', (('state', 'borders'), 'highest_point'), '/river/mississippi')\n",
      "               denotation      -   ()\n",
      "20     0.000   semantics           ('.and', ((('state', 'borders'), 'contains'), 'highest_point'), '/state/mississippi')\n",
      "               denotation      -   ()\n",
      "21     0.000   semantics           ('.and', ((('state', 'borders'), 'contains'), 'highest_point'), '/river/mississippi')\n",
      "               denotation      -   ()\n",
      "22     0.000   semantics           ('.and', ((('state', 'contains'), 'borders'), 'highest_point'), '/state/mississippi')\n",
      "               denotation      -   ()\n",
      "23     0.000   semantics           ('.and', ((('state', 'contains'), 'borders'), 'highest_point'), '/river/mississippi')\n",
      "               denotation      -   ()\n",
      "24     0.000   semantics           ('.and', (('state', 'highest_point'), 'borders'), '/state/mississippi')\n",
      "               denotation      -   ()\n",
      "25     0.000   semantics           ('.and', (('state', 'highest_point'), 'borders'), '/river/mississippi')\n",
      "               denotation      -   ()\n",
      "26     0.000   semantics           ('.and', ((('state', 'contains'), 'highest_point'), 'borders'), '/state/mississippi')\n",
      "               denotation      -   ()\n",
      "27     0.000   semantics           ('.and', ((('state', 'contains'), 'highest_point'), 'borders'), '/river/mississippi')\n",
      "               denotation      -   ()\n",
      "\n",
      "--------------------------------------------------------------------------------\n",
      "input                              what state has the shortest river ?\n",
      "target denotation                  ('/state/delaware', '/state/new_jersey', '/state/new_york', '/state/pennsylvania')\n",
      "\n",
      "denotation accuracy                0\n",
      "denotation oracle accuracy         1\n",
      "number of parses                   8\n",
      "spurious ambiguity                 0\n",
      "\n",
      "0      0.000   semantics           ('.and', 'state', ('.argmin', 'length', 'river'))\n",
      "               denotation      -   ()\n",
      "1      0.000   semantics           ('.and', 'state', (('.argmin', 'length', 'river'), 'traverses'))\n",
      "               denotation      +   ('/state/delaware', '/state/new_jersey', '/state/new_york', '/state/pennsylvania')\n",
      "2      0.000   semantics           ('.and', 'state', ('contains', ('.argmin', 'length', 'river')))\n",
      "               denotation      -   ()\n",
      "3      0.000   semantics           ('.and', ('traverses', 'state'), ('.argmin', 'length', 'river'))\n",
      "               denotation      -   ('/river/delaware',)\n",
      "4      0.000   semantics           ('.and', ('state', 'contains'), ('.argmin', 'length', 'river'))\n",
      "               denotation      -   ()\n",
      "5      0.000   semantics           ('.and', ('.argmin', 'length', 'state'), 'river')\n",
      "               denotation      -   ()\n",
      "6      0.000   semantics           ('.and', ('.argmin', 'length', ('traverses', 'state')), 'river')\n",
      "               denotation      -   ('/river/delaware',)\n",
      "7      0.000   semantics           ('.and', ('.argmin', 'length', ('state', 'contains')), 'river')\n",
      "               denotation      -   ()\n",
      "\n",
      "--------------------------------------------------------------------------------\n",
      "input                              what is the tallest mountain in the united states ?\n",
      "target denotation                  ('/mountain/mckinley',)\n",
      "\n",
      "denotation accuracy                0\n",
      "denotation oracle accuracy         0\n",
      "number of parses                   0\n",
      "spurious ambiguity                 0\n",
      "\n",
      "\n",
      "--------------------------------------------------------------------------------\n",
      "input                              what is the capital of maine ?\n",
      "target denotation                  ('/city/augusta_me',)\n",
      "\n",
      "denotation accuracy                1\n",
      "denotation oracle accuracy         1\n",
      "number of parses                   2\n",
      "spurious ambiguity                 0\n",
      "\n",
      "0      0.000   semantics           ('/state/maine', 'capital')\n",
      "               denotation      +   ('/city/augusta_me',)\n",
      "1      0.000   semantics           (('/state/maine', 'contains'), 'capital')\n",
      "               denotation      -   ()\n",
      "\n",
      "--------------------------------------------------------------------------------\n",
      "input                              what are the populations of states through which the mississippi river run ?\n",
      "target denotation                  (11400000, 2286000, 2364000, 2520000, 2913000, 4076000, 4206000, 4591000, 4700000, 4916000)\n",
      "\n",
      "denotation accuracy                0\n",
      "denotation oracle accuracy         0\n",
      "number of parses                   0\n",
      "spurious ambiguity                 0\n",
      "\n",
      "\n",
      "--------------------------------------------------------------------------------\n",
      "input                              name all the lakes of us ?\n",
      "target denotation                  ('/lake/becharof', '/lake/champlain', '/lake/erie', '/lake/flathead', '/lake/great_salt_lake', '/lake/huron', '/lake/iliamna', '/lake/lake_of_the_woods', '/lake/michigan', '/lake/mille_lacs', '/lake/naknek', '/lake/okeechobee', '/lake/ontario', '/lake/pontchartrain', '/lake/rainy', '/lake/red', '/lake/salton_sea', '/lake/st._clair', '/lake/superior', '/lake/tahoe', '/lake/teshekpuk', '/lake/winnebago')\n",
      "\n",
      "denotation accuracy                0\n",
      "denotation oracle accuracy         0\n",
      "number of parses                   0\n",
      "spurious ambiguity                 0\n",
      "\n",
      "\n",
      "--------------------------------------------------------------------------------\n",
      "input                              which states border states through which the mississippi traverses ?\n",
      "target denotation                  ('/state/alabama', '/state/arkansas', '/state/georgia', '/state/illinois', '/state/indiana', '/state/iowa', '/state/kansas', '/state/kentucky', '/state/louisiana', '/state/michigan', '/state/minnesota', '/state/mississippi', '/state/missouri', '/state/nebraska', '/state/north_carolina', '/state/north_dakota', '/state/ohio', '/state/oklahoma', '/state/south_dakota', '/state/tennessee', '/state/texas', '/state/virginia', '/state/west_virginia', '/state/wisconsin')\n",
      "\n",
      "denotation accuracy                0\n",
      "denotation oracle accuracy         0\n",
      "number of parses                   0\n",
      "spurious ambiguity                 0\n",
      "\n",
      "\n",
      "--------------------------------------------------------------------------------\n",
      "input                              what is the highest mountain in alaska ?\n",
      "target denotation                  ('/mountain/mckinley',)\n",
      "\n",
      "denotation accuracy                0\n",
      "denotation oracle accuracy         1\n",
      "number of parses                   12\n",
      "spurious ambiguity                 0\n",
      "\n",
      "0      0.000   semantics           ('.argmax', 'height', ('.and', 'mountain', '/state/alaska'))\n",
      "               denotation      -   ()\n",
      "1      0.000   semantics           ('.argmax', 'height', ('.and', 'mountain', ('traverses', '/state/alaska')))\n",
      "               denotation      -   ()\n",
      "2      0.000   semantics           ('.argmax', 'height', ('.and', 'mountain', ('/state/alaska', 'contains')))\n",
      "               denotation      +   ('/mountain/mckinley',)\n",
      "3      0.000   semantics           ('.argmax', 'height', ('.and', ('mountain', 'traverses'), '/state/alaska'))\n",
      "               denotation      -   ()\n",
      "4      0.000   semantics           ('.argmax', 'height', ('.and', ('contains', 'mountain'), '/state/alaska'))\n",
      "               denotation      -   ()\n",
      "5      0.000   semantics           ('.and', ('.argmax', 'height', 'mountain'), '/state/alaska')\n",
      "               denotation      -   ()\n",
      "6      0.000   semantics           ('.and', ('.argmax', 'height', 'mountain'), ('traverses', '/state/alaska'))\n",
      "               denotation      -   ()\n",
      "7      0.000   semantics           ('.and', ('.argmax', 'height', 'mountain'), ('/state/alaska', 'contains'))\n",
      "               denotation      +   ('/mountain/mckinley',)\n",
      "8      0.000   semantics           ('.and', ('.argmax', 'height', ('mountain', 'traverses')), '/state/alaska')\n",
      "               denotation      -   ()\n",
      "9      0.000   semantics           ('.and', ('.argmax', 'height', ('contains', 'mountain')), '/state/alaska')\n",
      "               denotation      -   ()\n",
      "10     0.000   semantics           ('.and', (('.argmax', 'height', 'mountain'), 'traverses'), '/state/alaska')\n",
      "               denotation      -   ()\n",
      "11     0.000   semantics           ('.and', ('contains', ('.argmax', 'height', 'mountain')), '/state/alaska')\n",
      "               denotation      -   ('/state/alaska',)\n",
      "\n",
      "--------------------------------------------------------------------------------\n",
      "input                              what is the population of illinois ?\n",
      "target denotation                  (11400000,)\n",
      "\n",
      "denotation accuracy                1\n",
      "denotation oracle accuracy         1\n",
      "number of parses                   2\n",
      "spurious ambiguity                 0\n",
      "\n",
      "0      0.000   semantics           ('/state/illinois', 'population')\n",
      "               denotation      +   (11400000,)\n",
      "1      0.000   semantics           (('/state/illinois', 'contains'), 'population')\n",
      "               denotation      -   (100054, 124160, 139712, 3005172, 58267, 60278, 60590, 61232, 63668, 66116, 67653, 73706, 77956, 81293, 93939)\n",
      "\n",
      "--------------------------------------------------------------------------------\n",
      "Over 10 examples:\n",
      "\n",
      "denotation accuracy                0.400\n",
      "denotation oracle accuracy         0.600\n",
      "number of parses                   5.500\n",
      "spurious ambiguity                 0.000\n",
      "\n"
     ]
    }
   ],
   "source": [
    "from experiment import evaluate_model\n",
    "from metrics import denotation_match_metrics\n",
    "\n",
    "evaluate_model(model=model,\n",
    "               examples=geo880_train_examples[:10],\n",
    "               metrics=denotation_match_metrics(),\n",
    "               print_examples=True)"
   ]
  },
  {
   "cell_type": "markdown",
   "metadata": {},
   "source": [
    "Take a look through that output.  Over the ten examples, we achieved denotation oracle accuracy of 60%, but denotation accuracy of just 40%.  In other words, there were two examples where we generated a correct parse, but failed to rank it at the top.  Take a closer look at those two cases.\n",
    "\n",
    "The first case is `\"what state has the shortest river ?\"`.  The top parse has semantics `('.and', 'state', ('.argmin', 'length', 'river'))`, which means something like \"states that are the shortest river\".  That's not right.  In fact, there's no such thing: the denotation is empty.\n",
    "\n",
    "The second case is `\"what is the highest mountain in alaska ?\"`.  The top parse has semantics `('.argmax', 'height', ('.and', 'mountain', '/state/alaska'))`, which means \"the highest mountain which is alaska\".  Again, there's no such thing: the denotation is empty.\n",
    "\n",
    "So in both of the cases where we put the wrong parse at the top, the top parse had nonsensical semantics with an empty denotation.  In fact, if you scroll through the output above, you will see that there are a _lot_ of candidate parses with empty denotations.  Seems like we could make a big improvement just by downweighting parses with empty denotations.  This is easy to do."
   ]
  },
  {
   "cell_type": "code",
   "execution_count": 32,
   "metadata": {
    "collapsed": false
   },
   "outputs": [],
   "source": [
    "def empty_denotation_feature(parse):\n",
    "    features = defaultdict(float)\n",
    "    if parse.denotation == ():\n",
    "        features['empty_denotation'] += 1.0\n",
    "    return features\n",
    "\n",
    "weights = {'empty_denotation': -1.0}\n",
    "\n",
    "model = Model(grammar=grammar,\n",
    "              feature_fn=empty_denotation_feature,\n",
    "              weights=weights,\n",
    "              executor=executor.execute)"
   ]
  },
  {
   "cell_type": "markdown",
   "metadata": {},
   "source": [
    "Let's evaluate the impact of using our new `empty_denotation` feature on the Geo880 training examples."
   ]
  },
  {
   "cell_type": "code",
   "execution_count": 33,
   "metadata": {
    "collapsed": false
   },
   "outputs": [
    {
     "name": "stdout",
     "output_type": "stream",
     "text": [
      "================================================================================\n",
      "Evaluating on 600 examples\n",
      "\n",
      "--------------------------------------------------------------------------------\n",
      "Max cell capacity 1000 has been hit 128 times\n",
      "Over 600 examples:\n",
      "\n",
      "denotation accuracy                0.387\n",
      "denotation oracle accuracy         0.468\n",
      "number of parses                   13.210\n",
      "spurious ambiguity                 0.001\n",
      "\n"
     ]
    }
   ],
   "source": [
    "from experiment import evaluate_model\n",
    "from metrics import denotation_match_metrics\n",
    "\n",
    "evaluate_model(model=model,\n",
    "               examples=geo880_train_examples,\n",
    "               metrics=denotation_match_metrics(),\n",
    "               print_examples=False)"
   ]
  },
  {
   "cell_type": "markdown",
   "metadata": {},
   "source": [
    "Great!  Using the `empty_denotation` feature has enabled us to increase denotation accuracy from 25% to 39%.  That's a big gain!  In fact, we've closed most of the gap between accuracy and oracle accuracy.  As a result, the headroom for further gains from feature engineering is limited — but it's not zero.  The [exercises](#geoquery-exercises) will ask you to push further."
   ]
  },
  {
   "cell_type": "markdown",
   "metadata": {},
   "source": [
    "## Exercises <a id=\"geoquery-exercises\"></a>"
   ]
  },
  {
   "cell_type": "markdown",
   "metadata": {},
   "source": [
    "Several of these exercises ask you to measure the impact of your change on key evaluation metrics.  Part of your job is to decide which evaluation metrics are most relevant for the change you're making.  It's probably best to evaluate only on training data, in order to keep the test data unseen during development.  (But the test data is hardly a state secret, so whatever.)\n",
    "\n",
    "### Straightforward\n",
    "\n",
    "1. Extend the grammar to handle queries which use the phrase \"how many people\" to ask about population.  There are many examples in the Geo880 training data.  Measure the impact of this change on key evaluation metrics.\n",
    "\n",
    "1. Extend the grammar to handle counting questions, indicated by the phrases \"how many\" or \"number of\", as in \"how many states does missouri border\".  Measure the impact of this change on key evaluation metrics.\n",
    "\n",
    "1. Several examples in the Geo880 training dataset fail to parse because they refer to locations using names that, while valid, are not recognized by the `GeobaseAnnotator`.  For example, some queries use \"america\" to refer to `/country/usa`, but `GeobaseAnnotator` recognizes only \"usa\".  Find unannotated location references in the Geo880 training dataset, and extend the grammar to handle them.  Measure the impact of this change on key evaluation metrics.\n",
    "\n",
    "1. Extend the grammar to handle examples of the form \"where is X\", such as \"where is mount whitney\" or \"where is san diego\".  Measure the impact of this change on key evaluation metrics.\n",
    "\n",
    "1. Quite a few examples in the Geo880 training dataset specify a set of entities by name, as in \"how many states have a city named springfield\" or \"how many rivers are called colorado\".  Extend the grammar to handle these, leveraging the `TokenAnnotator` introduced in [Unit 2][].  Measure the impact of this change on key evaluation metrics.\n",
    "\n",
    "1. Extend the grammar to handle phrases like \"austin texas\" or \"atlanta ga\", where two entity names appear in sequence.  Make sure that \"atlanta ga\" has semantics and a denotation, whereas \"atlanta tx\" has semantics but no denotation.  Measure the impact of this change on key evaluation metrics.\n",
    "\n",
    "1. In [Unit 2][], while examining the travel domain, we saw big gains from including rule features in our feature representation.  Experiment with adding rule features to the GeoQuery model.  Are the learned weights intuitive?  Do the rule features help?  If so, identify a few specific examples which are fixed by the inclusion of rule features.  Measure the impact on key evaluation metrics.\n",
    "\n",
    "1. Find an example where using the `empty_denotation` feature causes a loss (a bad prediction).\n",
    "\n",
    "1. The `empty_denotation` feature doesn't help on count questions (e.g., \"how many states ...\"), where all parses, good or bad, typically yield a denotation which is a single number.  Add a new feature which helps in such cases.  Identify a few specific examples which are fixed by the new feature.  Measure the impact on key evaluation metrics.  [This exercise assumes you have already done the exercise on handling count questions.]\n",
    "\n",
    "### Challenging\n",
    "\n",
    "1. Extend the grammar to handle comparisons, such as \"mountains with height greater than 5000\" or \"mountains with height greater than the height of bona\".\n",
    "\n",
    "1. Building on the previous exercise, extend the grammar to handle even those comparisons which involve ellipsis, such as  \"mountains higher than \\[the height of\\] mt. katahdin\" or \"rivers longer than \\[the length of\\] the colorado river\" (where the bracketed phrase does not appear in the surface form!).\n",
    "\n",
    "1. Extend the grammar to handle queries involving units, such as \"what is the area of maryland in square kilometers\" or \"how long is the mississippi river in miles\".\n",
    "\n",
    "1. The Geo880 training dataset contains many examples involving population density.  Extend the grammar to handle these examples.  Measure the impact on key evaluation metrics.\n",
    "\n",
    "1. Several examples in the Geo880 training dataset involve some form of negation, expressed by the words \"not\", \"no\", or \"excluding\".  Extend the grammar to handle these examples.  Measure the impact on key evaluation metrics.\n",
    "\n",
    "1. The current grammar handles \"capital of texas\", but not \"texas capital\".  It handles \"has austin capital\", but not \"has capital austin\".  In general, it defines every phrase which expresses a relation as either a `$FwdRelation` or a `$RevRelation`, and constrains word order accordingly.  Extend the grammar to allow any phrase which is ordinarily a `$FwdRelation` to function as a `$RevRelation`, and vice versa.  Can you now handle \"texas capital\" and \"has capital austin\"?  Measure the impact on key evaluation metrics.\n",
    "\n",
    "1. What if we permit any word to be optionalized by adding the rule `Rule('$Optional', '$Token')` to our grammar?  (Recall that `$Token` is produced by the `TokenAnnotator`.)  Measure the impact of this change on key evaluation metrics.  You will likely find that the change has some negative effects and some positive effects.  Is there a way to mitigate the negative effects, while preserving the positive effects?\n",
    "\n",
    "1. The success of the `empty_denotation` feature demonstrates the potential of denotation features.  Can we go further?  Experiment with features that characterize the *size* of the denotation (that is, the number of answers).  Are two answers better than one?  Are ten answers better than two?  If you find some features that seem to work, identify a few specific examples which are fixed by your new features.  Measure the impact on key evaluation metrics.\n",
    "\n",
    "  [Unit 2]: ./sippycup-unit-2.ipynb\n",
    "  [Levenshtein distance]: http://en.wikipedia.org/wiki/Levenshtein_distance\n",
    "  [minhashing]: http://en.wikipedia.org/wiki/MinHash\n",
    "  \n",
    "<!-- (TODO: There should be an exercise related to spurious ambiguity.) -->\n",
    "\n",
    "<!--\n",
    "1. Because `GeobaseAnnotator` relies on exact string matching, it isn't very robust.  As a result, it fails to annotate \"ft. lauderdale\" (which Geobase knows as \"fort lauderdale\"), \"baltamore\" (a misspelling of \"baltimore\"), or \"portlad\" (a typo for \"portland\").  Find a way to make it more robust by doing approximate string matching, perhaps using [Levenshtein distance][] or [minhashing][] of character-level n-grams (shingles).\n",
    "-->"
   ]
  },
  {
   "cell_type": "markdown",
   "metadata": {
    "collapsed": false
   },
   "source": [
    " "
   ]
  },
  {
   "cell_type": "markdown",
   "metadata": {},
   "source": [
    "Copyright (C) 2015 Bill MacCartney"
   ]
  }
 ],
 "metadata": {
  "kernelspec": {
   "display_name": "Python 3",
   "language": "python",
   "name": "python3"
  },
  "language_info": {
   "codemirror_mode": {
    "name": "ipython",
    "version": 3
   },
   "file_extension": ".py",
   "mimetype": "text/x-python",
   "name": "python",
   "nbconvert_exporter": "python",
   "pygments_lexer": "ipython3",
   "version": "3.5.1"
  }
 },
 "nbformat": 4,
 "nbformat_minor": 0
}
